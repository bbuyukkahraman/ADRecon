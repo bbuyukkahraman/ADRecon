{
  "nbformat": 4,
  "nbformat_minor": 0,
  "metadata": {
    "colab": {
      "provenance": [],
      "authorship_tag": "ABX9TyPELcv5JMOtqk+MrjbJ/Am5",
      "include_colab_link": true
    },
    "kernelspec": {
      "name": "python3",
      "display_name": "Python 3"
    },
    "language_info": {
      "name": "python"
    }
  },
  "cells": [
    {
      "cell_type": "markdown",
      "metadata": {
        "id": "view-in-github",
        "colab_type": "text"
      },
      "source": [
        "<a href=\"https://colab.research.google.com/github/bbuyukkahraman/ADRecon/blob/master/Python.ipynb\" target=\"_parent\"><img src=\"https://colab.research.google.com/assets/colab-badge.svg\" alt=\"Open In Colab\"/></a>"
      ]
    },
    {
      "cell_type": "code",
      "execution_count": 1,
      "metadata": {
        "colab": {
          "base_uri": "https://localhost:8080/"
        },
        "id": "ZZtreC5YOTOQ",
        "outputId": "626c2c50-c2a8-4524-bbca-ae9440a48be1"
      },
      "outputs": [
        {
          "output_type": "stream",
          "name": "stdout",
          "text": [
            "Toplama Sonucu: 15\n",
            "Toplama Sonucu: 15\n"
          ]
        }
      ],
      "source": [
        "# Basit bir fonksiyon: iki sayıyı toplar ve sonucu döndürür\n",
        "def topla(a, b):\n",
        "    return a + b\n",
        "\n",
        "# İlk adımda iki sayıyı toplar\n",
        "sonuc = topla(5, 10)\n",
        "print(\"Toplama Sonucu:\", sonuc)\n",
        "\n",
        "# İkinci adımda bir hata oluşacak: sayılar yerine bir metin kullanılıyor\n",
        "sonuc = topla(5, 10)\n",
        "print(\"Toplama Sonucu:\", sonuc)"
      ]
    },
    {
      "cell_type": "code",
      "source": [
        "import requests\n",
        "\n",
        "# GET isteği yap\n",
        "response = requests.get('https://jsonplaceholder.typicode.com/users/1')\n",
        "\n",
        "# Yanıtı JSON formatında al\n",
        "user = response.json()\n",
        "\n",
        "# Kullanıcı bilgisini ekrana yazdır\n",
        "print(\"Kullanıcı Bilgileri:\")\n",
        "print(f\"Ad: {user['name']}\")\n",
        "print(f\"E-posta: {user['email']}\")\n",
        "print(f\"Şehir: {user['address']['city']}\")"
      ],
      "metadata": {
        "colab": {
          "base_uri": "https://localhost:8080/"
        },
        "id": "wSSMfhcoOhIS",
        "outputId": "da664955-2c9a-4229-f1c6-bf971dd01595"
      },
      "execution_count": 5,
      "outputs": [
        {
          "output_type": "stream",
          "name": "stdout",
          "text": [
            "Kullanıcı Bilgileri:\n",
            "Ad: Leanne Graham\n",
            "E-posta: Sincere@april.biz\n",
            "Şehir: Gwenborough\n"
          ]
        }
      ]
    },
    {
      "cell_type": "code",
      "source": [
        "import requests\n",
        "\n",
        "# POST isteği yap\n",
        "payload = {\n",
        "    'title': 'Yeni Başlık',\n",
        "    'body': 'Bu bir deneme gönderisidir.',\n",
        "    'userId': 1\n",
        "}\n",
        "\n",
        "response = requests.post('https://jsonplaceholder.typicode.com/posts', json=payload)\n",
        "\n",
        "# Yanıtı JSON formatında al\n",
        "new_post = response.json()\n",
        "\n",
        "# Gönderi bilgisini ekrana yazdır\n",
        "print(\"Yeni Gönderi:\")\n",
        "print(f\"Başlık: {new_post['title']}\")\n",
        "print(f\"İçerik: {new_post['body']}\")"
      ],
      "metadata": {
        "colab": {
          "base_uri": "https://localhost:8080/"
        },
        "id": "dOQT3Y4AOnan",
        "outputId": "88161052-b6d4-48f9-d822-4b858968d9a3"
      },
      "execution_count": 6,
      "outputs": [
        {
          "output_type": "stream",
          "name": "stdout",
          "text": [
            "Yeni Gönderi:\n",
            "Başlık: Yeni Başlık\n",
            "İçerik: Bu bir deneme gönderisidir.\n"
          ]
        }
      ]
    },
    {
      "cell_type": "code",
      "source": [
        "from collections import Counter\n",
        "import re\n",
        "\n",
        "text = \"Bu bir test metnidir. Bu metin, test amaçlıdır.\"\n",
        "words = re.findall(r'\\w+', text.lower())\n",
        "word_count = Counter(words)\n",
        "\n",
        "print(\"Kelime Frekansları:\")\n",
        "for word, count in word_count.items():\n",
        "    print(f\"{word}: {count}\")"
      ],
      "metadata": {
        "colab": {
          "base_uri": "https://localhost:8080/"
        },
        "id": "y0dl25m0OxK7",
        "outputId": "3d41f3c8-1b0f-4e89-ca0d-cbfc71797894"
      },
      "execution_count": 12,
      "outputs": [
        {
          "output_type": "stream",
          "name": "stdout",
          "text": [
            "Kelime Frekansları:\n",
            "bu: 2\n",
            "bir: 1\n",
            "test: 2\n",
            "metnidir: 1\n",
            "metin: 1\n",
            "amaçlıdır: 1\n"
          ]
        }
      ]
    },
    {
      "cell_type": "code",
      "source": [
        "# Yaş kontrolü yap ve sonuçları yazdır\n",
        "age = 18\n",
        "\n",
        "if age >= 18:\n",
        "    print(\"You are an adult.\")\n",
        "else:\n",
        "    print(\"You are a minor.\")\n"
      ],
      "metadata": {
        "id": "eWshm1D9QTR-"
      },
      "execution_count": null,
      "outputs": []
    },
    {
      "cell_type": "code",
      "source": [
        "# Değişken Tanımlama\n",
        "# Python'da değişkenler, doğrudan atanarak tanımlanır ve tür belirtmek gerekmez.\n",
        "# Python'da bir değişken tanımlama\n",
        "isim = \"Ahmet\"\n",
        "yas = 30\n",
        "\n",
        "# Değişkenleri ekrana yazdırma\n",
        "print(f\"İsim: {isim}, Yaş: {yas}\")"
      ],
      "metadata": {
        "colab": {
          "base_uri": "https://localhost:8080/"
        },
        "id": "740B5LTAQVx1",
        "outputId": "12d2ca2f-1937-462b-f152-29d08e4c48c5"
      },
      "execution_count": 13,
      "outputs": [
        {
          "output_type": "stream",
          "name": "stdout",
          "text": [
            "İsim: Ahmet, Yaş: 30\n"
          ]
        }
      ]
    },
    {
      "cell_type": "code",
      "source": [
        "# Koşul İfadeleri (If Statements)\n",
        "# Python'da koşul ifadeleri, mantıklı ve okunaklı bir biçimde yazılır.\n",
        "# Python'da koşul ifadesi\n",
        "not_ortalamasi = 85\n",
        "\n",
        "if not_ortalamasi >= 90:\n",
        "    print(\"Mükemmel\")\n",
        "elif not_ortalamasi >= 75:\n",
        "    print(\"İyi\")\n",
        "else:\n",
        "    print(\"Geliştirilmesi Gerekiyor\")"
      ],
      "metadata": {
        "colab": {
          "base_uri": "https://localhost:8080/"
        },
        "id": "NwPfYjQFQXUW",
        "outputId": "b4001398-afc1-46a2-9b43-2b899971f9e2"
      },
      "execution_count": 15,
      "outputs": [
        {
          "output_type": "stream",
          "name": "stdout",
          "text": [
            "İyi\n"
          ]
        }
      ]
    },
    {
      "cell_type": "code",
      "source": [
        "# Döngüler\n",
        "# Döngüler de Python'da oldukça basit ve okunaklıdır.\n",
        "# Python'da for döngüsü\n",
        "meyveler = [\"Elma\", \"Armut\", \"Muz\"]\n",
        "\n",
        "for meyve in meyveler:\n",
        "    print(meyve)\n",
        "\n",
        "# Python'da while döngüsü\n",
        "sayac = 0\n",
        "\n",
        "while sayac < 5:\n",
        "    print(sayac)\n",
        "    sayac += 1"
      ],
      "metadata": {
        "colab": {
          "base_uri": "https://localhost:8080/"
        },
        "id": "V_rPxv5ZQZX1",
        "outputId": "bc14bd56-79f2-4783-c604-4e47380ca043"
      },
      "execution_count": 16,
      "outputs": [
        {
          "output_type": "stream",
          "name": "stdout",
          "text": [
            "Elma\n",
            "Armut\n",
            "Muz\n",
            "0\n",
            "1\n",
            "2\n",
            "3\n",
            "4\n"
          ]
        }
      ]
    },
    {
      "cell_type": "code",
      "source": [
        "# Fonksiyon Tanımlama\n",
        "# Python'da fonksiyon tanımlamak ve kullanmak çok basittir.\n",
        "# Python'da fonksiyon tanımlama\n",
        "def selam_ver(isim):\n",
        "    return f\"Merhaba, {isim}!\"\n",
        "\n",
        "# Fonksiyonu çağırma\n",
        "mesaj = selam_ver(\"Ayşe\")\n",
        "print(mesaj)  # Çıktı: Merhaba, Ayşe!"
      ],
      "metadata": {
        "colab": {
          "base_uri": "https://localhost:8080/"
        },
        "id": "P1e8okHJQbGZ",
        "outputId": "6e3a4e31-9990-4a9d-a838-ea15f819547c"
      },
      "execution_count": 17,
      "outputs": [
        {
          "output_type": "stream",
          "name": "stdout",
          "text": [
            "Merhaba, Ayşe!\n"
          ]
        }
      ]
    },
    {
      "cell_type": "code",
      "source": [
        "# Liste Anlamaları (List Comprehensions)\n",
        "# Python'da liste oluşturma işlemi bile basit ve sezgiseldir.\n",
        "# Liste anlaması ile bir liste oluşturma\n",
        "sayilar = [1, 2, 3, 4, 5]\n",
        "kareler = [sayi**2 for sayi in sayilar]\n",
        "\n",
        "print(kareler)  # Çıktı: [1, 4, 9, 16, 25]"
      ],
      "metadata": {
        "colab": {
          "base_uri": "https://localhost:8080/"
        },
        "id": "BVrY4BfgQcIX",
        "outputId": "c5f45220-b9f9-4607-e722-c71f4b1724f1"
      },
      "execution_count": 18,
      "outputs": [
        {
          "output_type": "stream",
          "name": "stdout",
          "text": [
            "[1, 4, 9, 16, 25]\n"
          ]
        }
      ]
    },
    {
      "cell_type": "code",
      "source": [
        "# Değişken Tanımlama:\n",
        "x = 10           # Integer\n",
        "name = \"Alice\"   # String\n",
        "price = 19.99    # Float\n",
        "is_active = True # Boolean"
      ],
      "metadata": {
        "id": "H_mA4V2kQduq"
      },
      "execution_count": 20,
      "outputs": []
    },
    {
      "cell_type": "code",
      "source": [
        "# Aritmetik Operatörler:\n",
        "x = 10 + 5   # Toplama\n",
        "y = 10 - 5   # Çıkarma\n",
        "z = 10 * 5   # Çarpma\n",
        "w = 10 / 5   # Bölme\n",
        "\n",
        "# Karşılaştırma Operatörleri:\n",
        "x == y  # Eşit mi?\n",
        "x != y  # Eşit değil mi?\n",
        "x > y   # Büyük mü?\n",
        "x < y   # Küçük mü?\n",
        "\n",
        "# Mantıksal Operatörler:\n",
        "a and b  # VE (and)\n",
        "a or b   # VEYA (or)\n",
        "not a    # DEĞİL (not)"
      ],
      "metadata": {
        "colab": {
          "base_uri": "https://localhost:8080/"
        },
        "id": "dx0jmec7Rgow",
        "outputId": "5e776b1b-7c21-45cb-de2a-49abb01b72cb"
      },
      "execution_count": 21,
      "outputs": [
        {
          "output_type": "error",
          "ename": "NameError",
          "evalue": "name 'a' is not defined",
          "traceback": [
            "\u001b[0;31m---------------------------------------------------------------------------\u001b[0m",
            "\u001b[0;31mNameError\u001b[0m                                 Traceback (most recent call last)",
            "\u001b[0;32m<ipython-input-21-85fd50136498>\u001b[0m in \u001b[0;36m<cell line: 14>\u001b[0;34m()\u001b[0m\n\u001b[1;32m     12\u001b[0m \u001b[0;34m\u001b[0m\u001b[0m\n\u001b[1;32m     13\u001b[0m \u001b[0;31m# Mantıksal Operatörler:\u001b[0m\u001b[0;34m\u001b[0m\u001b[0;34m\u001b[0m\u001b[0m\n\u001b[0;32m---> 14\u001b[0;31m \u001b[0ma\u001b[0m \u001b[0;32mand\u001b[0m \u001b[0mb\u001b[0m  \u001b[0;31m# VE (and)\u001b[0m\u001b[0;34m\u001b[0m\u001b[0;34m\u001b[0m\u001b[0m\n\u001b[0m\u001b[1;32m     15\u001b[0m \u001b[0ma\u001b[0m \u001b[0;32mor\u001b[0m \u001b[0mb\u001b[0m   \u001b[0;31m# VEYA (or)\u001b[0m\u001b[0;34m\u001b[0m\u001b[0;34m\u001b[0m\u001b[0m\n\u001b[1;32m     16\u001b[0m \u001b[0;32mnot\u001b[0m \u001b[0ma\u001b[0m    \u001b[0;31m# DEĞİL (not)\u001b[0m\u001b[0;34m\u001b[0m\u001b[0;34m\u001b[0m\u001b[0m\n",
            "\u001b[0;31mNameError\u001b[0m: name 'a' is not defined"
          ]
        }
      ]
    },
    {
      "cell_type": "code",
      "source": [
        "# Koşullu İfadeler:\n",
        "eage = 18\n",
        "if age >= 18:\n",
        "    print(\"You are an adult.\")\n",
        "else:\n",
        "    print(\"You are a minor.\")\n",
        "# Döngüler:\n",
        "for Döngüsü:\n",
        "for i in range(5):\n",
        "    print(i)  # 0'dan 4'e kadar sayıları yazdırır\n",
        "\n",
        "# while Döngüsü:\n",
        "count = 0\n",
        "while count < 5:\n",
        "    print(count)\n",
        "    count += 1"
      ],
      "metadata": {
        "colab": {
          "base_uri": "https://localhost:8080/"
        },
        "id": "0LHmyzj0RzHM",
        "outputId": "bf56f40d-844b-4027-b211-cb66ac405420"
      },
      "execution_count": 22,
      "outputs": [
        {
          "output_type": "error",
          "ename": "SyntaxError",
          "evalue": "invalid syntax (<ipython-input-22-789b30a6a328>, line 8)",
          "traceback": [
            "\u001b[0;36m  File \u001b[0;32m\"<ipython-input-22-789b30a6a328>\"\u001b[0;36m, line \u001b[0;32m8\u001b[0m\n\u001b[0;31m    for Döngüsü:\u001b[0m\n\u001b[0m               ^\u001b[0m\n\u001b[0;31mSyntaxError\u001b[0m\u001b[0;31m:\u001b[0m invalid syntax\n"
          ]
        }
      ]
    }
  ]
}